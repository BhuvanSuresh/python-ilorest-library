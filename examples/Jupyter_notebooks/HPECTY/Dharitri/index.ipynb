{
 "cells": [
  {
   "cell_type": "markdown",
   "id": "18ad6013",
   "metadata": {},
   "source": [
    "<img id=\"my-image\" src=\"https://upload.wikimedia.org/wikipedia/commons/thumb/4/46/Hewlett_Packard_Enterprise_logo.svg/1200px-Hewlett_Packard_Enterprise_logo.svg.png\" alt=\"HPE Logo\" srcset=\"\" style=\"width: 32rem; border-radius: 5px; transition: all 0.2s ease-out; padding: 10px;\">"
   ]
  },
  {
   "cell_type": "markdown",
   "id": "20da06d1",
   "metadata": {},
   "source": [
    "<h1 style=\"text-align:center; border-top: 1px solid black; border-bottom: 1px solid black; padding-top:5px; padding-bottom:5px;\">Scripts related to AHS</h1>"
   ]
  },
  {
   "cell_type": "markdown",
   "id": "fa8b0fad",
   "metadata": {},
   "source": [
    "<table style=\"border-radius: 10px; background-color: #f9f9f9; border-collapse: collapse; width: 100%; max-width: 800px; margin: 0 auto; box-shadow: 4px 4px 8px rgba(0, 0, 0, 0.2), -4px -4px 8px rgba(255, 255, 255, 0.5); \">\n",
    "  <thead>\n",
    "    <tr style=\"background-color: #333; color: #fff;\">\n",
    "      <th style=\"padding: 12px; text-align: left;\">OPERATION</th>\n",
    "      <th style=\"padding: 12px; text-align: left;\">DESCRIPTION</th>\n",
    "      <th style=\"padding: 12px; text-align: left;\">METHOD</th>\n",
    "      <th style=\"padding: 12px; text-align: left;\">LOCATION</th>\n",
    "    </tr>\n",
    "  </thead>\n",
    "  <tbody>\n",
    "    <tr onmouseover=\"this.style.boxShadow='0px 10px 20px rgba(0, 0, 0, 0.4)';\" onmouseout=\"this.style.boxShadow='0px 5px 10px rgba(0, 0, 0, 0.4)';\" style=\"padding: 10px;background-color: #fff;\">\n",
    "      <td style=\"padding: 12px; text-align: left; color: black;\">Clear AHS data</td>\n",
    "      <td style=\"padding: 12px; text-align: left;\">Clear active health state data of iLO server</td>\n",
    "      <td style=\"padding: 12px; text-align: left;\">DELETE</td>\n",
    "      <td style=\"padding: 12px; text-align: left;\"><a href=\"./AHS/clear_ahs_data.ipynb\">clear_ahs_data</a></td>\n",
    "    </tr>\n",
    "  </tbody>\n",
    "</table>\n"
   ]
  },
  {
   "cell_type": "markdown",
   "id": "81721043",
   "metadata": {},
   "source": [
    "<h1 style=\"text-align:center; border-top: 1px solid black; border-bottom: 1px solid black; padding-top:5px; padding-bottom:5px;\">Scripts related to Computer</h1>"
   ]
  },
  {
   "cell_type": "markdown",
   "id": "cf10b943",
   "metadata": {},
   "source": [
    "<table style=\"border-radius: 10px; background-color: #f9f9f9; border-collapse: collapse; width: 100%; max-width: 800px; margin: 0 auto; box-shadow: 4px 4px 8px rgba(0, 0, 0, 0.2), -4px -4px 8px rgba(255, 255, 255, 0.5); \">\n",
    "  <thead>\n",
    "    <tr style=\"background-color: #333; color: #fff;\">\n",
    "      <th style=\"padding: 12px; text-align: left;\">OPERATION</th>\n",
    "      <th style=\"padding: 12px; text-align: left;\">DESCRIPTION</th>\n",
    "      <th style=\"padding: 12px; text-align: left;\">METHOD</th>\n",
    "      <th style=\"padding: 12px; text-align: left;\">LOCATION</th>\n",
    "    </tr>\n",
    "  </thead>\n",
    "  <tbody>\n",
    "    <tr onmouseover=\"this.style.boxShadow='0px 10px 20px rgba(0, 0, 0, 0.4)';\" onmouseout=\"this.style.boxShadow='0px 5px 10px rgba(0, 0, 0, 0.4)';\" style=\"padding: 10px;background-color: #fff;\">\n",
    "      <td style=\"padding: 12px; text-align: left; color: black;\">Computer Details</td>\n",
    "      <td style=\"padding: 12px; text-align: left;\">Get all the available computer/hosts details in iLO\t</td>\n",
    "      <td style=\"padding: 12px; text-align: left;\">GET</td>\n",
    "      <td style=\"padding: 12px; text-align: left;\"><a href=\"./COMPUTER/computer_details.ipynb\">computer_details</a></td>\n",
    "    </tr>\n",
    "  </tbody>\n",
    "</table>\n"
   ]
  },
  {
   "cell_type": "markdown",
   "id": "01ee71dd",
   "metadata": {},
   "source": [
    "<h1 style=\"text-align:center; border-top: 1px solid black; border-bottom: 1px solid black; padding-top:5px; padding-bottom:5px;\">Scripts related to iLO</h1>"
   ]
  },
  {
   "cell_type": "markdown",
   "id": "fbce5754",
   "metadata": {},
   "source": [
    "<table style=\"border-radius: 10px; background-color: #f9f9f9; border-collapse: collapse; width: 100%; max-width: 800px; margin: 0 auto; box-shadow: 4px 4px 8px rgba(0, 0, 0, 0.2), -4px -4px 8px rgba(255, 255, 255, 0.5); \">\n",
    "  <thead>\n",
    "    <tr style=\"background-color: #333; color: #fff;\">\n",
    "      <th style=\"padding: 12px; text-align: left;\">OPERATION</th>\n",
    "      <th style=\"padding: 12px; text-align: left;\">DESCRIPTION</th>\n",
    "      <th style=\"padding: 12px; text-align: left;\">METHOD</th>\n",
    "      <th style=\"padding: 12px; text-align: left;\">LOCATION</th>\n",
    "    </tr>\n",
    "  </thead>\n",
    "  <tbody>\n",
    "      <tr onmouseover=\"this.style.boxShadow='0px 10px 20px rgba(0, 0, 0, 0.4)';\" onmouseout=\"this.style.boxShadow='0px 5px 10px rgba(0, 0, 0, 0.4)';\" style=\"padding: 10px;background-color: #fff;\">\n",
    "      <td style=\"padding: 12px; text-align: left; color: black;\">Clear iLO IEL IML log\t</td>\n",
    "      <td style=\"padding: 12px; text-align: left;\">Clearing out the iLO event log and management log at server side</td>\n",
    "      <td style=\"padding: 12px; text-align: left;\">DELETE</td>\n",
    "      <td style=\"padding: 12px; text-align: left;\"><a href=\"./iLO/clear_ilo_iel_iml_log.ipynb\">clear_ilo_iel_iml_log</a></td>\n",
    "    </tr>\n",
    "  </tbody>\n",
    "</table>\n"
   ]
  },
  {
   "cell_type": "markdown",
   "id": "0140b004",
   "metadata": {},
   "source": [
    "<h1 style=\"text-align:center; border-top: 1px solid black; border-bottom: 1px solid black; padding-top:5px; padding-bottom:5px;\">Scripts related to SNMP</h1>"
   ]
  },
  {
   "cell_type": "markdown",
   "id": "d60f6ff8",
   "metadata": {},
   "source": [
    "<table style=\"border-radius: 10px; background-color: #f9f9f9; border-collapse: collapse; width: 100%; max-width: 800px; margin: 0 auto; box-shadow: 4px 4px 8px rgba(0, 0, 0, 0.2), -4px -4px 8px rgba(255, 255, 255, 0.5); \">\n",
    "  <thead>\n",
    "    <tr style=\"background-color: #333; color: #fff;\">\n",
    "      <th style=\"padding: 12px; text-align: left;\">OPERATION</th>\n",
    "      <th style=\"padding: 12px; text-align: left;\">DESCRIPTION</th>\n",
    "      <th style=\"padding: 12px; text-align: left;\">METHOD</th>\n",
    "      <th style=\"padding: 12px; text-align: left;\">LOCATION</th>\n",
    "    </tr>\n",
    "  </thead>\n",
    "  <tbody>\n",
    "    <tr onmouseover=\"this.style.boxShadow='0px 10px 20px rgba(0, 0, 0, 0.4)';\" onmouseout=\"this.style.boxShadow='0px 5px 10px rgba(0, 0, 0, 0.4)';\" style=\"padding: 10px;background-color: #fff;\">\n",
    "      <td style=\"padding: 12px; text-align: left; color: black;\">Configure SNMP</td>\n",
    "      <td style=\"padding: 12px; text-align: left;\">Configuring SNMP for HPE iLO systems</td>\n",
    "      <td style=\"padding: 12px; text-align: left;\">PATCH</td>\n",
    "      <td style=\"padding: 12px; text-align: left;\"><a href=\"./SNMP/configure_snmp.ipynb\">configure_snmp</a></td>\n",
    "    </tr>\n",
    "    <tr onmouseover=\"this.style.boxShadow='0px 10px 20px rgba(0, 0, 0, 0.4)';\" onmouseout=\"this.style.boxShadow='0px 5px 10px rgba(0, 0, 0, 0.4)';\" style=\"padding: 10px;background-color: #fff;\">\n",
    "      <td style=\"padding: 12px; text-align: left; color: black;\">Configure SNMP trap source</td>\n",
    "      <td style=\"padding: 12px; text-align: left;\">Configuring SNMP trap source for HPE iLO systems</td>\n",
    "      <td style=\"padding: 12px; text-align: left;\">PATCH</td>\n",
    "      <td style=\"padding: 12px; text-align: left;\"><a href=\"./SNMP/configure_snmp_trap_source.ipynb\">configure_snmp_trap_source</a></td>\n",
    "    </tr>\n",
    "  </tbody>\n",
    "</table>\n"
   ]
  }
 ],
 "metadata": {
  "kernelspec": {
   "display_name": "Python 3 (ipykernel)",
   "language": "python",
   "name": "python3"
  },
  "language_info": {
   "codemirror_mode": {
    "name": "ipython",
    "version": 3
   },
   "file_extension": ".py",
   "mimetype": "text/x-python",
   "name": "python",
   "nbconvert_exporter": "python",
   "pygments_lexer": "ipython3",
   "version": "3.9.7"
  }
 },
 "nbformat": 4,
 "nbformat_minor": 5
}
