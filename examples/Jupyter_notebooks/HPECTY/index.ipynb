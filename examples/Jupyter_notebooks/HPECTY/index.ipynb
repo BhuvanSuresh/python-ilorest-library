{
 "cells": [
  {
   "cell_type": "markdown",
   "id": "18ad6013",
   "metadata": {},
   "source": [
    "<img id=\"my-image\" src=\"https://upload.wikimedia.org/wikipedia/commons/thumb/4/46/Hewlett_Packard_Enterprise_logo.svg/1200px-Hewlett_Packard_Enterprise_logo.svg.png\" alt=\"HPE Logo\" srcset=\"\" style=\"width: 32rem; border-radius: 5px; transition: all 0.2s ease-out; padding: 10px;\">"
   ]
  },
  {
   "cell_type": "markdown",
   "id": "fa8b0fad",
   "metadata": {},
   "source": [
    "<table style=\"border-radius: 10px; background-color: #f9f9f9; border-collapse: collapse; width: 100%; max-width: 800px; margin: 0 auto; box-shadow: 4px 4px 8px rgba(0, 0, 0, 0.2), -4px -4px 8px rgba(255, 255, 255, 0.5); \">\n",
    "  <thead>\n",
    "    <tr style=\"background-color: #333; color: #fff;\">\n",
    "      <th style=\"padding: 12px; text-align: left;\">OPERATION</th>\n",
    "      <th style=\"padding: 12px; text-align: left;\">DESCRIPTION</th>\n",
    "      <th style=\"padding: 12px; text-align: left;\">METHOD</th>\n",
    "      <th style=\"padding: 12px; text-align: left;\">LOCATION</th>\n",
    "    </tr>\n",
    "  </thead>\n",
    "  <tbody>\n",
    "    <tr onmouseover=\"this.style.boxShadow='0px 10px 20px rgba(0, 0, 0, 0.4)';\" onmouseout=\"this.style.boxShadow='0px 5px 10px rgba(0, 0, 0, 0.4)';\" style=\"padding: 10px;background-color: #fff;\">\n",
    "      <td style=\"padding: 12px; text-align: left; color: black;\">BIOS Settings</td>\n",
    "      <td style=\"padding: 12px; text-align: left;\">Update BIOS Settings for iLO server</td>\n",
    "      <td style=\"padding: 12px; text-align: left;\">PATCH</td>\n",
    "      <td style=\"padding: 12px; text-align: left;\">change_bios_setting</td>\n",
    "    </tr>\n",
    "    <tr style=\"background-color: #f2f2f2;\">\n",
    "      <td style=\"padding: 12px; text-align: left;\">BIOS Default</td>\n",
    "      <td style=\"padding: 12px; text-align: left;\">Update BIOS to default setting</td>\n",
    "      <td style=\"padding: 12px; text-align: left;\">PATCH</td>\n",
    "      <td style=\"padding: 12px; text-align: left;\">revert_bios_default</td>\n",
    "    </tr>\n",
    "    <tr style=\"background-color: #fff;\">\n",
    "      <td style=\"padding: 12px; text-align: left;\">Powermetrics Average</td>\n",
    "      <td style=\"padding: 12px; text-align: left;\">Get powewr measurement average of servers</td>\n",
    "      <td style=\"padding: 12px; text-align: left;\">GET</td>\n",
    "      <td style=\"padding: 12px; text-align: left;\">get_powermetrics_average</td>\n",
    "    </tr>\n",
    "  </tbody>\n",
    "</table>\n"
   ]
  },
  {
   "cell_type": "code",
   "execution_count": null,
   "id": "62458584",
   "metadata": {},
   "outputs": [],
   "source": []
  }
 ],
 "metadata": {
  "kernelspec": {
   "display_name": "Python 3 (ipykernel)",
   "language": "python",
   "name": "python3"
  },
  "language_info": {
   "codemirror_mode": {
    "name": "ipython",
    "version": 3
   },
   "file_extension": ".py",
   "mimetype": "text/x-python",
   "name": "python",
   "nbconvert_exporter": "python",
   "pygments_lexer": "ipython3",
   "version": "3.9.7"
  }
 },
 "nbformat": 4,
 "nbformat_minor": 5
}
