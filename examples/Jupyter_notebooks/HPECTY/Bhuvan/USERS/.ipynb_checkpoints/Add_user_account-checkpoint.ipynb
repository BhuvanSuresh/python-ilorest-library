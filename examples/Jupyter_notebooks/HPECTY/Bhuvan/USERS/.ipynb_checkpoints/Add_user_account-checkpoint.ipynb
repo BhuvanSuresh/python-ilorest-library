{
 "cells": [
  {
   "cell_type": "markdown",
   "id": "f815c9a7",
   "metadata": {},
   "source": [
    "<h1 style=\"text-align:center;\">Add new user account by iLO privileges or redfish standard roles</h1>"
   ]
  },
  {
   "cell_type": "markdown",
   "id": "2a3a9755",
   "metadata": {},
   "source": [
    "<div class=\"alert  alert-block  alert-info\" style=\"border-radius: 20px;\">    \n",
    "    <ul>\n",
    "        <li><p>This Jupyter Notebook will help you to add new user account by iLO privileges or redfish standard roles. This code is written in Python and uses the redfish library to perform the required operations.</p></li>\n",
    "        <li>As you are here let's get it done easily.</li>\n",
    "        <li>To perform this u need to have <a href = \"https://libraries.io/pypi/python-ilorest-library#id3\" style=\"none\">python-ilorest-library</a> installed in your machine.</li>\n",
    "        <li>Please keep your username and password handy.</li>\n",
    "        <li>Do execute each successive cell once to avoid any errors!</li>\n",
    "    </ul>    \n",
    "</div>"
   ]
  },
  {
   "cell_type": "markdown",
   "id": "cc555954",
   "metadata": {},
   "source": [
    "<div class=\"alert alert-block alert-success\"  style=\"border-radius: 20px;\">\n",
    "    <h3> 1. Below we are importing all the necessary python libraries</h3>\n",
    "    <ul>\n",
    "        <li><a href = \"https://www.tutorialspoint.com/what-is-python-s-sys-module#:~:text=%20What%20is%20Python%27s%20Sys%20Module%20%201,%5B0%5D%20prints%20the...%205%20Output.%20%20More%20\">sys</a></li>\n",
    "        <li>json</li>\n",
    "        <li>redfish</li> \n",
    "    </ul>\n",
    "</div>"
   ]
  },
  {
   "cell_type": "code",
   "execution_count": null,
   "id": "cff3ead6",
   "metadata": {},
   "outputs": [],
   "source": [
    "import sys\n",
    "import json\n",
    "from redfish import RedfishClient\n",
    "from redfish.rest.v1 import ServerDownOrUnreachableError\n",
    "global DISABLE_RESOURCE_DIR\n",
    "\n",
    "from ilorest_util import get_resource_directory\n",
    "from ilorest_util import get_gen\n",
    "\n",
    "#to take password inputs securely\n",
    "import getpass"
   ]
  },
  {
   "cell_type": "markdown",
   "id": "b41f56eb",
   "metadata": {},
   "source": [
    "<div class = \"alert alert-block alert-success\" style=\"border-radius: 20px;\">\n",
    "    <h3> 3. This is Main function overview.</h3>\n",
    "    <br>\n",
    " There is a hierarchy involved in iLO Rest Api. So we are simply following the hierarchy present to change the settings.\n",
    "\n",
    "1. The rest opertions are handled by redfish object which is created by RedfishClient<br>\n",
    "<br>\n",
    "    \n",
    "2. <b>RedfishClient</b> class takes 3 parameters<i> iLO url, Username,Password</i> and returns a redfish object.<br>\n",
    "    <br>\n",
    "\n",
    "3. Once you enter everything a redfish obejct is created with the help of RedfishClient class.<br>\n",
    "    <br>\n",
    "\n",
    "4. Now we try to Login with the help of <i> REDFISHOBJ</i>, if it is successful a session is created and you are logged in, But if           Server       is not avaialbe we get an error saying \"server unreachable\"<br>\n",
    "    <br>\n",
    "5. Then we call <b>bios_revert_default</b> with our redfish object and rest the settings to default.<br>\n",
    "    \n",
    "\n",
    "6. REDFISHOBJ.logout() will take care of logging you out of the ilo.\n",
    "\n",
    " </div>"
   ]
  },
  {
   "cell_type": "markdown",
   "id": "c8cd2ffd",
   "metadata": {},
   "source": [
    "<div class=\"alert alert-block alert-warning\" style=\"border-radius: 20px;\">\n",
    "<b> When running on the server locally,</b> use the following values:<br>\n",
    "    SYSTEM_URL = None <br>\n",
    "    LOGIN_ACCOUNT = None <br>\n",
    "    LOGIN_PASSWORD = None <br>\n",
    "    <b> When running remotely </b> connect using the secured (https://) address, account name and password to send https requests<br>\n",
    "    SYSTEM_URL acceptable examples: <br>\n",
    "    \"https://10.0.0.100\" <br>\n",
    "    \"https://ilo.hostname\"\n",
    "</div>"
   ]
  },
  {
   "cell_type": "markdown",
   "id": "77edbde3",
   "metadata": {},
   "source": [
    "<div class=\"alert alert-block alert-warning\" style=\"border-radius: 20px;\">\n",
    "    <h5>Instructions</h5>\n",
    "    <ul>\n",
    "        <li>When prompted for <i>ACCOUNT_LOGIN_NAME</i>, enter redfish standard username here  as iLO GUI actually considers this to be 'UserName'</li>\n",
    "        <li>When prompted for <i>ACCOUNT_USER_NAME</i>, enter redfish login here iLO GUI actually considers this to be 'LoginName'</li>\n",
    "        <li>Role_ID: It is a predefined role for the user which can take \"Administrator\" or \"ReadOnly\" or \"Operator\" as input. For more informaion on roles and privilages refere the table in the next cell.</li>\n",
    "        <li>For more clarification on the above points please visit <i><a href=\"https://hewlettpackard.github.io/ilo-rest-api-docs/ilo6/#managing-ilo-6-users\">iLO Users Documentation</a></i></li>\n",
    "    </ul>\n",
    "</div>"
   ]
  },
  {
   "cell_type": "markdown",
   "id": "acc45fbf",
   "metadata": {},
   "source": []
  },
  {
   "cell_type": "code",
   "execution_count": null,
   "id": "b99181a4",
   "metadata": {},
   "outputs": [
    {
     "name": "stdout",
     "output_type": "stream",
     "text": [
      "Enter System URL: f\n",
      "Enter Login account: f\n",
      "Enter your password: ········\n",
      "Enter Account Login Name: f\n",
      "Enter Account User Name: f\n",
      "Enter Account password: ········\n",
      "Enter ROLE_ID: f\n",
      "For the below privilages enter 'True' if that privilages needs to be set for the user else enter 'False'\n",
      "Truef\n",
      "Truef\n",
      "Truef\n",
      "Truef\n"
     ]
    }
   ],
   "source": [
    "if __name__ == \"__main__\":\n",
    "\n",
    "    \n",
    "    SYSTEM_URL = input(\"Enter System URL: \")\n",
    "    LOGIN_ACCOUNT = input(\"Enter Login account: \")\n",
    "    LOGIN_PASSWORD = getpass.getpass(\"Enter your password: \")\n",
    "\n",
    "    #account login name (iLO GUI actually considers this to be 'UserName', but\n",
    "    #this is the redfish standard username)\n",
    "    ACCOUNT_LOGIN_NAME = input(\"Enter Account Login Name: \")\n",
    "\n",
    "    #account user name (iLO GUI actually considers this to be 'LoginName', but\n",
    "    #this is the redfish login)\n",
    "    ACCOUNT_USER_NAME = input(\"Enter Account User Name: \")\n",
    "\n",
    "    #account password\n",
    "    ACCOUNT_PASSWORD = getpass.getpass(\"Enter Account password: \")\n",
    "\n",
    "    #A predefined role for the user, (The redfish standard method for accounts).\n",
    "    #This is a translated to a pre-configured arrangement of privileges on HPE servers\n",
    "    ROLE_ID = input(\"Enter ROLE_ID: \") #Administrator, ReadOnly or Operator are available\n",
    "\n",
    "    #Dictionary of modifiable privileges for HPE servers (modify this if you wish to directly set\n",
    "    #an account with specific privileges\n",
    "    \n",
    "    PRIVILEGE_DICT = {\"iLOConfigPriv\": True, \"VirtualMediaPriv\": True, \"RemoteConsolePriv\": True, \"UserConfigPriv\": True, \"VirtualPowerAndResetPriv\": True, \\\n",
    "                      \"SystemRecoveryConfigPriv\": True, \"LoginPriv\": True, \"HostStorageConfigPriv\": True, \"HostNICConfigPriv\": True,\n",
    "                      \"HostBIOSConfigPriv\": True}\n",
    "    \n",
    "    print(\"For the below privilages enter 'True' if that privilages needs to be set for the user else enter 'False'\")\n",
    "          \n",
    "    for key in PRIVILEGE_DICT.keys():\n",
    "          PRIVILEGE_DICT[key] = input(f\"{key}\")\n",
    "    \n",
    "    # flag to force disable resource directory. Resource directory and associated operations are\n",
    "    # intended for HPE servers.\n",
    "    DISABLE_RESOURCE_DIR = False\n",
    "\n",
    "    ca_cert_data = {}\n",
    "    ca_cert_data[\"cert_file\"] = \"c:\\\\test\\\\ppcacuser.crt\"\n",
    "    ca_cert_data[\"key_file\"] = \"c:\\\\test\\\\ppcacuserpriv.key\"\n",
    "    ca_cert_data[\"key_password\"] = \"password\"\n",
    "    LOGIN_ACCOUNT = None\n",
    "    LOGIN_PASSWORD = None\n",
    "\n",
    "    try:\n",
    "        # Create a Redfish client object\n",
    "        REDFISHOBJ = RedfishClient(base_url=SYSTEM_URL, username=LOGIN_ACCOUNT, password=LOGIN_PASSWORD, ca_cert_data=ca_cert_data)\n",
    "        #REDFISHOBJ = RedfishClient(base_url=SYSTEM_URL, ca_cert_data=ca_cert_data)\n",
    "        # Login with the Redfish client\n",
    "        if ca_cert_data is None:\n",
    "            REDFISHOBJ.login()\n",
    "        else:\n",
    "            REDFISHOBJ.login(auth='certificate')\n",
    "    except ServerDownOrUnreachableError as excp:\n",
    "        sys.stderr.write(\"ERROR: server not reachable or does not support RedFish.\\n\")\n",
    "        sys.exit()\n",
    "\n",
    "    #obtain all account instances, by navigating set paths and keys to find the relevant URI\n",
    "    #(account_collection_uri, accounts, rd) = get_accounts(redfishobj, DISABLE_RESOURCE_DIR)\n",
    "    #print(\"\\n\\nShowing accounts before changes:\\n\\n\")\n",
    "    #show_accounts(redfishobj, accounts)\n",
    "\n",
    "    #if account_collection_uri and accounts:\n",
    "    #add specified account\n",
    "    (ilogen,_) = get_gen(REDFISHOBJ)\n",
    "    print (\"Generation is \", ilogen)\n",
    "    if int(ilogen) == 5:\n",
    "        add_ilo_user_account(REDFISHOBJ,ACCOUNT_LOGIN_NAME,ACCOUNT_USER_NAME,ACCOUNT_PASSWORD,ROLE_ID,PRIVILEGE_DICT)\n",
    "    else:\n",
    "        add_ilo_user_account_gen9(REDFISHOBJ,ACCOUNT_LOGIN_NAME,ACCOUNT_USER_NAME,ACCOUNT_PASSWORD)\n",
    "    REDFISHOBJ.logout()"
   ]
  },
  {
   "cell_type": "code",
   "execution_count": null,
   "id": "0b490052",
   "metadata": {},
   "outputs": [],
   "source": []
  }
 ],
 "metadata": {
  "kernelspec": {
   "display_name": "Python 3 (ipykernel)",
   "language": "python",
   "name": "python3"
  },
  "language_info": {
   "codemirror_mode": {
    "name": "ipython",
    "version": 3
   },
   "file_extension": ".py",
   "mimetype": "text/x-python",
   "name": "python",
   "nbconvert_exporter": "python",
   "pygments_lexer": "ipython3",
   "version": "3.9.7"
  }
 },
 "nbformat": 4,
 "nbformat_minor": 5
}
