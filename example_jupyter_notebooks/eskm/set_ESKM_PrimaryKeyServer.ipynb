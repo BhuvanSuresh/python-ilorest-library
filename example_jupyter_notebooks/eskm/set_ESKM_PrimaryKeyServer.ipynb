{
 "cells": [
  {
   "cell_type": "markdown",
   "id": "362a8301",
   "metadata": {},
   "source": [
    "<h1 style=\"text-align:center;\">Configuring the ESKM key for HPE iLO systems</h1>"
   ]
  },
  {
   "cell_type": "code",
   "execution_count": null,
   "id": "0995826e",
   "metadata": {},
   "outputs": [],
   "source": [
    "<div class=\"alert  alert-block  alert-info\" style=\"border-radius: 20px;\">    \n",
    "    <ul>\n",
    "        <li><p>This script can be used to manage and configure the ESKM key server for HPE iLO systems.</p></li>\n",
    "        <li>As you are here let's get it done easily.</li>\n",
    "        <li>To perform this you need to have <a href = \"https://libraries.io/pypi/python-ilorest-library#id3\" style=\"none\">python-ilorest-library</a> installed in your machine.</li>\n",
    "        <li>Please keep your username and password handy</li>\n",
    "        <li>Do execute each successive cell once to avoid any errors!</li>\n",
    "    </ul>    \n",
    "</div>"
   ]
  },
  {
   "cell_type": "markdown",
   "id": "fa62be8b",
   "metadata": {},
   "source": [
    "<div class=\"alert alert-block alert-success\"  style=\"border-radius: 20px;\">\n",
    "    <h3> 1. Below we are importing all the necessary python libraries</h3>\n",
    "    <ul>\n",
    "        <li><a href = \"https://www.tutorialspoint.com/what-is-python-s-sys-module#:~:text=%20What%20is%20Python%27s%20Sys%20Module%20%201,%5B0%5D%20prints%20the...%205%20Output.%20%20More%20\">sys</a></li>\n",
    "        <li>json</li>\n",
    "        <li>redfish</li> \n",
    "    </ul>\n",
    "</div>"
   ]
  },
  {
   "cell_type": "code",
   "execution_count": null,
   "id": "c3c3347f",
   "metadata": {},
   "outputs": [],
   "source": [
    "import sys\n",
    "import json\n",
    "from redfish import RedfishClient\n",
    "from redfish.rest.v1 import ServerDownOrUnreachableError\n",
    "from get_resource_directory import get_resource_directory\n",
    "\n",
    "#This is to take passwords as input securely\n",
    "import getpass"
   ]
  },
  {
   "cell_type": "markdown",
   "id": "a125860a",
   "metadata": {},
   "source": [
    "<div class = \"alert alert-block alert-success\" style=\"border-radius: 20px;\">\n",
    "    <div style = \"color:green; font-size:40px;\">2.</div><br>\n",
    "    <p>Below is the set_ESKM_PrimaryKeyServer function. The function takes a Redfish client object, the primary key server address, and the primary key server port as input. It uses the Redfish API to configure the primary ESKM(Enterprise Secure Key Manager) key server on the iLO system.</p>\n",
    "<br>It achieves this by the following steps:<br>\n",
    "\n",
    "1. It first retrieves the relevant URI for the ESKM service by either using the resource directory or by navigating through the Redfish API endpoints.<br>\n",
    "The function then constructs a request body with the primary key server address and port.\n",
    "2. It sends a POST request to the ESKM URI with the request body to update the primary key server configuration.<br>\n",
    "3. If the response is successful, it displays the updated configuration in JSON format.\n",
    "If there are any errors or exceptions, it provides appropriate error messages or status codes.<br>\n",
    "4. Finally, it logs out from the iLO server.\n",
    "<br><br>\n",
    "The set_ESKM_PrimaryKeyServer function enables the configuration of the primary ESKM key server for HPE iLO systems. It retrieves the relevant URI, sets the primary key server address and port, and updates the configuration via a POST request. It provides feedback on the success or failure of the operation and allows for proper error handling.\n",
    "</div>"
   ]
  },
  {
   "cell_type": "code",
   "execution_count": null,
   "id": "5dff7bad",
   "metadata": {},
   "outputs": [],
   "source": [
    "def set_ESKM_PrimaryKeyServer(_redfishobj, primary_key_server_address, primary_key_server_port):\n",
    "\n",
    "    eskm_uri = None\n",
    "    body = dict()\n",
    "\n",
    "    resource_instances = get_resource_directory(_redfishobj)\n",
    "    if DISABLE_RESOURCE_DIR or not resource_instances:\n",
    "        #if we do not have a resource directory or want to force it's non use to find the\n",
    "        #relevant URI\n",
    "        managers_uri = _redfishobj.root.obj['Managers']['@odata.id']\n",
    "        managers_response = _redfishobj.get(managers_uri)\n",
    "        managers_members_uri = next(iter(managers_response.obj['Members']))['@odata.id']\n",
    "        managers_members_response = _redfishobj.get(managers_members_uri)\n",
    "        security_service_uri = managers_members_response.obj.Oem.Hpe.Links['SecurityService']\\\n",
    "                                                                                    ['@odata.id']\n",
    "        security_service_response = _redfishobj.get(security_service_uri)\n",
    "        eskm_uri = security_service_response.obj.Links['ESKM']['@odata.id']\n",
    "    else:\n",
    "        #Use Resource directory to find the relevant URI\n",
    "        for instance in resource_instances:\n",
    "            if '#HpeESKM.' in instance['@odata.type']:\n",
    "                eskm_uri = instance['@odata.id']\n",
    "                break\n",
    "\n",
    "    if eskm_uri:\n",
    "\n",
    "        body[\"PrimaryKeyServerAddress\"] = primary_key_server_address\n",
    "        body[\"PrimaryKeyServerPort\"] = int(primary_key_server_port)\n",
    "\n",
    "        resp = _redfishobj.post(eskm_uri, body)\n",
    "        #If iLO responds with soemthing outside of 200 or 201 then lets check the iLO extended info\n",
    "        #error message to see what went wrong\n",
    "        if resp.status == 400:\n",
    "            try:\n",
    "                print(json.dumps(resp.obj['error']['@Message.ExtendedInfo'], indent=4, \\\n",
    "                                                                                sort_keys=True))\n",
    "            except Exception as excp:\n",
    "                sys.stderr.write(\"A response error occurred, unable to access iLO Extended \"\\\n",
    "                                 \"Message Info...\")\n",
    "        elif resp.status != 200:\n",
    "            sys.stderr.write(\"An http response of \\'%s\\' was returned.\\n\" % resp.status)\n",
    "        else:\n",
    "            print(\"Success!\\n\")\n",
    "            print(json.dumps(resp.dict, indent=4, sort_keys=True))"
   ]
  },
  {
   "cell_type": "markdown",
   "id": "4f9738fc",
   "metadata": {},
   "source": [
    "<div class = \"alert alert-block alert-success\" style=\"border-radius: 20px;\">\n",
    "    <div style = \"color:green; font-size:40px;\">3.</div><br>\n",
    "    \n",
    "The code below establishes a connection with an iLO server using the specified system URL, login account, and password. It then sets the primary ESKM key server address and port. The script utilizes the Redfish protocol to communicate with the server and performs the necessary operations to configure the key server. Finally, it logs out from the iLO server.\n",
    "</div>"
   ]
  },
  {
   "cell_type": "markdown",
   "id": "891010e6",
   "metadata": {},
   "source": [
    "<div class = \"alert alert-block alert-warning\" style=\"border-radius: 20px;\">\n",
    "    <b>When running on the server locally</b> use the following values<br>\n",
    " SYSTEM_URL = None<br>\n",
    " LOGIN_ACCOUNT = None<br>\n",
    " LOGIN_PASSWORD = None<br>\n",
    "\n",
    "   <b>When running remotely</b> connect using the secured (https://) address,\n",
    "     account name, and password to send https requests\n",
    "    <br>\n",
    "     SYSTEM_URL acceptable examples:<br>\n",
    "     https://10.0.0.100<br>\n",
    "     https://ilo.hostname\n",
    "</div>"
   ]
  },
  {
   "cell_type": "code",
   "execution_count": null,
   "id": "e2cbc2d2",
   "metadata": {},
   "outputs": [],
   "source": [
    "if __name__ == \"__main__\":\n",
    "    \n",
    "    SYSTEM_URL = \"https://10.0.0.100\"\n",
    "    LOGIN_ACCOUNT = \"admin\"\n",
    "    LOGIN_PASSWORD = \"password\"\n",
    "\n",
    "    PRIMARY_KEY_SERVER_ADDRESS = \"192.168.1.1\"\n",
    "    PRIMARY_KEY_SERVER_PORT = \"9000\"\n",
    "\n",
    "    # flag to force disable resource directory. Resource directory and associated operations are\n",
    "    # intended for HPE servers.\n",
    "    DISABLE_RESOURCE_DIR = False\n",
    "\n",
    "    try:\n",
    "        # Create a Redfish client object\n",
    "        REDFISHOBJ = RedfishClient(base_url=SYSTEM_URL, username=LOGIN_ACCOUNT, \\\n",
    "                                                                            password=LOGIN_PASSWORD)\n",
    "        # Login with the Redfish client\n",
    "        REDFISHOBJ.login()\n",
    "    except ServerDownOrUnreachableError as excp:\n",
    "        sys.stderr.write(\"ERROR: server not reachable or does not support RedFish.\\n\")\n",
    "        sys.exit()\n",
    "\n",
    "    set_ESKM_PrimaryKeyServer(REDFISHOBJ, PRIMARY_KEY_SERVER_ADDRESS, PRIMARY_KEY_SERVER_PORT)\n",
    "    REDFISHOBJ.logout()"
   ]
  },
  {
   "cell_type": "markdown",
   "id": "90b4cb56",
   "metadata": {},
   "source": [
    "<div class = \"alert alert-block alert-success\" style=\"border-radius: 20px;\">\n",
    "    In case you need help 🔗 links to relevant resources :\n",
    "    <br>\n",
    "    1.Python-ilorest-library: <a href = \"https://github.com/HewlettPackard/python-ilorest-library\">LINK</a><br>\n",
    "    2.HPE ilorest-api explorer: <a href = \"https://ilorestfulapiexplorer.ext.hpe.com/\">LINK</a><br>\n",
    "    3.REST API: <a href = \"https://restfulapi.net/\">LINK</a><br>\n",
    "    4.Changing Boot Setting Documentation: <a href = \"https://hewlettpackard.github.io/ilo-rest-api-docs/ilo6/?python#changing-boot-settings\">LINK</a><br>\n",
    "    \n",
    "</div>"
   ]
  }
 ],
 "metadata": {
  "kernelspec": {
   "display_name": "Python 3 (ipykernel)",
   "language": "python",
   "name": "python3"
  },
  "language_info": {
   "codemirror_mode": {
    "name": "ipython",
    "version": 3
   },
   "file_extension": ".py",
   "mimetype": "text/x-python",
   "name": "python",
   "nbconvert_exporter": "python",
   "pygments_lexer": "ipython3",
   "version": "3.10.6"
  }
 },
 "nbformat": 4,
 "nbformat_minor": 5
}
