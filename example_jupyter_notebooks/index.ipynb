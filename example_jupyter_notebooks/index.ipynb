{
 "cells": [
  {
   "cell_type": "markdown",
   "id": "18ad6013",
   "metadata": {},
   "source": [
    "<img id=\"my-image\" src=\"https://upload.wikimedia.org/wikipedia/commons/thumb/4/46/Hewlett_Packard_Enterprise_logo.svg/1200px-Hewlett_Packard_Enterprise_logo.svg.png\" alt=\"HPE Logo\" srcset=\"\" style=\"width: 32rem; border-radius: 5px; transition: all 0.2s ease-out; padding: 10px;\">"
   ]
  },
  {
   "cell_type": "markdown",
   "id": "20da06d1",
   "metadata": {},
   "source": [
    "<h1 style=\"text-align:center; border-bottom: 1px solid black; padding-top:5px; padding-bottom:5px;\">Scripts related to BIOS</h1>"
   ]
  },
  {
   "cell_type": "markdown",
   "id": "fa8b0fad",
   "metadata": {},
   "source": [
    "<table style=\"border-radius: 10px; background-color: #f9f9f9; border-collapse: collapse; width: 100%; max-width: 800px; margin: 0 auto; box-shadow: 4px 4px 8px rgba(0, 0, 0, 0.2), -4px -4px 8px rgba(255, 255, 255, 0.5); \">\n",
    "  <thead>\n",
    "    <tr style=\"background-color: #333; color: #fff;\">\n",
    "      <th style=\"padding: 12px; text-align: left;\">OPERATION</th>\n",
    "      <th style=\"padding: 12px; text-align: left;\">DESCRIPTION</th>\n",
    "      <th style=\"padding: 12px; text-align: left;\">METHOD</th>\n",
    "      <th style=\"padding: 12px; text-align: left;\">LOCATION</th>\n",
    "    </tr>\n",
    "  </thead>\n",
    "  <tbody>\n",
    "    <tr onmouseover=\"this.style.boxShadow='0px 10px 20px rgba(0, 0, 0, 0.4)';\" onmouseout=\"this.style.boxShadow='0px 5px 10px rgba(0, 0, 0, 0.4)';\" style=\"padding: 10px;background-color: #fff;\">\n",
    "      <td style=\"padding: 12px; text-align: left; color: black;\">Change BIOS Settings</td>\n",
    "      <td style=\"padding: 12px; text-align: left;\">Update BIOS Settings for iLO server</td>\n",
    "      <td style=\"padding: 12px; text-align: left;\">PATCH</td>\n",
    "      <td style=\"padding: 12px; text-align: left;\"><a href=\"./bios/BIOS_changeSettings.ipynb\">BIOS_changeSettings</a></td>\n",
    "    </tr>\n",
    "    <tr style=\"background-color: #f2f2f2;\">\n",
    "      <td style=\"padding: 12px; text-align: left;\">BIOS Default</td>\n",
    "      <td style=\"padding: 12px; text-align: left;\">Update BIOS to default setting</td>\n",
    "      <td style=\"padding: 12px; text-align: left;\">POST</td>\n",
    "      <td style=\"padding: 12px; text-align: left;\"><a href=\"./bios/BIOS_revertToDefault.ipynb\">BIOS_revertToDefault</a></td>\n",
    "    </tr>\n",
    "      <tr onmouseover=\"this.style.boxShadow='0px 10px 20px rgba(0, 0, 0, 0.4)';\" onmouseout=\"this.style.boxShadow='0px 5px 10px rgba(0, 0, 0, 0.4)';\" style=\"padding: 10px;background-color: #fff;\">\n",
    "      <td style=\"padding: 12px; text-align: left; color: black;\">Set bios password</td>\n",
    "      <td style=\"padding: 12px; text-align: left;\">Change bios password for HPE iLO system</td>\n",
    "      <td style=\"padding: 12px; text-align: left;\">PATCH</td>\n",
    "      <td style=\"padding: 12px; text-align: left;\"><a href=\"./bios/set_bios_password.ipynb\">set_bios_password</a></td>\n",
    "    </tr>\n",
    "      <tr onmouseover=\"this.style.boxShadow='0px 10px 20px rgba(0, 0, 0, 0.4)';\" onmouseout=\"this.style.boxShadow='0px 5px 10px rgba(0, 0, 0, 0.4)';\" style=\"padding: 10px;background-color: #f2f2f2;\">\n",
    "      <td style=\"padding: 12px; text-align: left; color: black;\">Set bios ISCSI</td>\n",
    "      <td style=\"padding: 12px; text-align: left;\">Setting an ISCSI boot instance for HPE iLO systems</td>\n",
    "      <td style=\"padding: 12px; text-align: left;\">PATCH</td>\n",
    "      <td style=\"padding: 12px; text-align: left;\"><a href=\"./bios/set_bios_iscsi.ipynb\">set_bios_iscsi</a></td>\n",
    "    </tr>\n",
    "  </tbody>\n",
    "</table>\n"
   ]
  },
  {
   "cell_type": "markdown",
   "id": "b01ddc4e",
   "metadata": {},
   "source": [
    "<div></div>"
   ]
  },
  {
   "cell_type": "markdown",
   "id": "81721043",
   "metadata": {},
   "source": [
    "<h1 style=\"text-align:center; border-bottom: 1px solid black; padding-top:5px; padding-bottom:5px;\">Scripts related to Users and Sessions</h1>"
   ]
  },
  {
   "cell_type": "markdown",
   "id": "cf10b943",
   "metadata": {},
   "source": [
    "<table style=\"border-radius: 10px; background-color: #f9f9f9; border-collapse: collapse; width: 100%; max-width: 800px; margin: 0 auto; box-shadow: 4px 4px 8px rgba(0, 0, 0, 0.2), -4px -4px 8px rgba(255, 255, 255, 0.5); \">\n",
    "  <thead>\n",
    "    <tr style=\"background-color: #333; color: #fff;\">\n",
    "      <th style=\"padding: 12px; text-align: left;\">OPERATION</th>\n",
    "      <th style=\"padding: 12px; text-align: left;\">DESCRIPTION</th>\n",
    "      <th style=\"padding: 12px; text-align: left;\">METHOD</th>\n",
    "      <th style=\"padding: 12px; text-align: left;\">LOCATION</th>\n",
    "    </tr>\n",
    "  </thead>\n",
    "  <tbody>\n",
    "    <tr onmouseover=\"this.style.boxShadow='0px 10px 20px rgba(0, 0, 0, 0.4)';\" onmouseout=\"this.style.boxShadow='0px 5px 10px rgba(0, 0, 0, 0.4)';\" style=\"padding: 10px;background-color: #fff;\">\n",
    "      <td style=\"padding: 12px; text-align: left; color: black;\">Add User Account</td>\n",
    "      <td style=\"padding: 12px; text-align: left;\">Add new user account</td>\n",
    "      <td style=\"padding: 12px; text-align: left;\">POST</td>\n",
    "      <td style=\"padding: 12px; text-align: left;\"><a href=\"./users_and_sessions/add_user_account.ipynb\">add_user_account</a></td>\n",
    "    </tr>\n",
    "  </tbody>\n",
    "</table>\n"
   ]
  },
  {
   "cell_type": "markdown",
   "id": "9f91683a",
   "metadata": {},
   "source": [
    "<div></div>"
   ]
  },
  {
   "cell_type": "markdown",
   "id": "5e16cdec",
   "metadata": {},
   "source": [
    "<h1 style=\"text-align:center; border-bottom: 1px solid black; padding-top:5px; padding-bottom:5px;\">Scripts related to Booting</h1>"
   ]
  },
  {
   "cell_type": "markdown",
   "id": "616fef86",
   "metadata": {},
   "source": [
    "<table style=\"border-radius: 10px; background-color: #f9f9f9; border-collapse: collapse; width: 100%; max-width: 800px; margin: 0 auto; box-shadow: 4px 4px 8px rgba(0, 0, 0, 0.2), -4px -4px 8px rgba(255, 255, 255, 0.5); \">\n",
    "  <thead>\n",
    "    <tr style=\"background-color: #333; color: #fff;\">\n",
    "      <th style=\"padding: 12px; text-align: left;\">OPERATION</th>\n",
    "      <th style=\"padding: 12px; text-align: left;\">DESCRIPTION</th>\n",
    "      <th style=\"padding: 12px; text-align: left;\">METHOD</th>\n",
    "      <th style=\"padding: 12px; text-align: left;\">LOCATION</th>\n",
    "    </tr>\n",
    "  </thead>\n",
    "  <tbody>\n",
    "    <tr onmouseover=\"this.style.boxShadow='0px 10px 20px rgba(0, 0, 0, 0.4)';\" onmouseout=\"this.style.boxShadow='0px 5px 10px rgba(0, 0, 0, 0.4)';\" style=\"padding: 10px;background-color: #fff;\">\n",
    "      <td style=\"padding: 12px; text-align: left; color: black;\">Change Boot Order</td>\n",
    "      <td style=\"padding: 12px; text-align: left;\">Change iLOs boot ordert</td>\n",
    "      <td style=\"padding: 12px; text-align: left;\">PATCH</td>\n",
    "      <td style=\"padding: 12px; text-align: left;\"><a href=\"./boot/change_boot_order.ipynb\">change_boot_order</a></td>\n",
    "    </tr>\n",
    "      <tr style=\"background-color: #f2f2f2;\">\n",
    "      <td style=\"padding: 12px; text-align: left; color: black;\">Change Temporary Boot Order</td>\n",
    "      <td style=\"padding: 12px; text-align: left;\">Change iLOs temporary boot ordert</td>\n",
    "      <td style=\"padding: 12px; text-align: left;\">PATCH</td>\n",
    "      <td style=\"padding: 12px; text-align: left;\"><a href=\"./boot/change_temp_boot_order.ipynb\">change_temp_boot_order</a></td>\n",
    "    </tr>\n",
    "       \n",
    "  </tbody>\n",
    "</table>\n"
   ]
  },
  {
   "cell_type": "markdown",
   "id": "317bbec4",
   "metadata": {},
   "source": [
    "<div></div>"
   ]
  },
  {
   "cell_type": "markdown",
   "id": "387dc1d0",
   "metadata": {},
   "source": [
    "<h1 style=\"text-align:center; border-bottom: 1px solid black; padding-top:5px; padding-bottom:5px;\">Scripts related to Enterprise Secure Key Manager (ESKM)</h1>"
   ]
  },
  {
   "cell_type": "markdown",
   "id": "156509fe",
   "metadata": {},
   "source": [
    "<table style=\"border-radius: 10px; background-color: #f9f9f9; border-collapse: collapse; width: 100%; max-width: 800px; margin: 0 auto; box-shadow: 4px 4px 8px rgba(0, 0, 0, 0.2), -4px -4px 8px rgba(255, 255, 255, 0.5); \">\n",
    "  <thead>\n",
    "    <tr style=\"background-color: #333; color: #fff;\">\n",
    "      <th style=\"padding: 12px; text-align: left;\">OPERATION</th>\n",
    "      <th style=\"padding: 12px; text-align: left;\">DESCRIPTION</th>\n",
    "      <th style=\"padding: 12px; text-align: left;\">METHOD</th>\n",
    "      <th style=\"padding: 12px; text-align: left;\">LOCATION</th>\n",
    "    </tr>\n",
    "  </thead>\n",
    "  <tbody>\n",
    "    <tr onmouseover=\"this.style.boxShadow='0px 10px 20px rgba(0, 0, 0, 0.4)';\" onmouseout=\"this.style.boxShadow='0px 5px 10px rgba(0, 0, 0, 0.4)';\" style=\"padding: 10px;background-color: #fff;\">\n",
    "      <td style=\"padding: 12px; text-align: left; color: black;\">Test ESKM Connection</td>\n",
    "      <td style=\"padding: 12px; text-align: left;\">Script for testing connection to the ESKM system for HPE iLO systems</td>\n",
    "      <td style=\"padding: 12px; text-align: left;\">POST</td>\n",
    "      <td style=\"padding: 12px; text-align: left;\"><a href=\"./eskm/test_ESKM_connection.ipynb\">test_ESKM_connection</a></td>\n",
    "    </tr>\n",
    "  </tbody>\n",
    "</table>\n"
   ]
  },
  {
   "cell_type": "markdown",
   "id": "c53f260c",
   "metadata": {},
   "source": [
    "<div></div>"
   ]
  },
  {
   "cell_type": "markdown",
   "id": "acef9e30",
   "metadata": {},
   "source": [
    "<h1 style=\"text-align:center; border-bottom: 1px solid black; padding-top:5px; padding-bottom:5px;\">Scripts related to Firmware and Flashing</h1>"
   ]
  },
  {
   "cell_type": "markdown",
   "id": "04289f7c",
   "metadata": {},
   "source": [
    "<table style=\"border-radius: 10px; background-color: #f9f9f9; border-collapse: collapse; width: 100%; max-width: 800px; margin: 0 auto; box-shadow: 4px 4px 8px rgba(0, 0, 0, 0.2), -4px -4px 8px rgba(255, 255, 255, 0.5); \">\n",
    "  <thead>\n",
    "    <tr style=\"background-color: #333; color: #fff;\">\n",
    "      <th style=\"padding: 12px; text-align: left;\">OPERATION</th>\n",
    "      <th style=\"padding: 12px; text-align: left;\">DESCRIPTION</th>\n",
    "      <th style=\"padding: 12px; text-align: left;\">METHOD</th>\n",
    "      <th style=\"padding: 12px; text-align: left;\">LOCATION</th>\n",
    "    </tr>\n",
    "  </thead>\n",
    "  <tbody>\n",
    "    <tr onmouseover=\"this.style.boxShadow='0px 10px 20px rgba(0, 0, 0, 0.4)';\" onmouseout=\"this.style.boxShadow='0px 5px 10px rgba(0, 0, 0, 0.4)';\" style=\"padding: 10px;background-color: #fff;\">\n",
    "      <td style=\"padding: 12px; text-align: left; color: black;\">Upload Firmware to iLO repository</td>\n",
    "      <td style=\"padding: 12px; text-align: left;\">Script for uploading firmware to the iLO Repository for flashing</td>\n",
    "      <td style=\"padding: 12px; text-align: left;\">POST</td>\n",
    "      <td style=\"padding: 12px; text-align: left;\"><a href=\"./fw_info_and_flash/upload_firmware_to_iLO_repository.ipynb\">upload_firmware_to_iLO_repo</a></td>\n",
    "    </tr>\n",
    "      <tr style=\"background-color: #f2f2f2;\">\n",
    "      <td style=\"padding: 12px; text-align: left; color: black;\">Upload Firmware with associated COMPSIG file to iLO repository</td>\n",
    "      <td style=\"padding: 12px; text-align: left;\">Script for uploading a firmware component with a size less than\n",
    "32 GB, and associated Component Signature (compsig) signature file to the iLO Repository</td>\n",
    "      <td style=\"padding: 12px; text-align: left;\">POST</td>\n",
    "      <td style=\"padding: 12px; text-align: left;\"><a href=\"./fw_info_and_flash/upload_firmware_iLO_repository_with_COMPSIG.ipynb\">Upload_fw_iLO_Repo_COMPSIG</a></td>\n",
    "    </tr>\n",
    "      <tr onmouseover=\"this.style.boxShadow='0px 10px 20px rgba(0, 0, 0, 0.4)';\" onmouseout=\"this.style.boxShadow='0px 5px 10px rgba(0, 0, 0, 0.4)';\" style=\"padding: 10px;background-color: #fff;\">\n",
    "      <td style=\"padding: 12px; text-align: left; color: black;\">Update Firmware</td>\n",
    "      <td style=\"padding: 12px; text-align: left;\">Script for updating Firmware via HTTP URL</td>\n",
    "      <td style=\"padding: 12px; text-align: left;\">POST</td>\n",
    "      <td style=\"padding: 12px; text-align: left;\"><a href=\"./fw_info_and_flash/update_iLO_firmware.ipynb\">update_iLO_firmware</a></td>\n",
    "    </tr>\n",
    "      <tr style=\"background-color: #f2f2f2;\">\n",
    "      <td style=\"padding: 12px; text-align: left; color: black;\">View Firmware Inventory</td>\n",
    "      <td style=\"padding: 12px; text-align: left;\">Script for viewing the firmware inventory on HPE iLO systems</td>\n",
    "      <td style=\"padding: 12px; text-align: left;\">GET</td>\n",
    "      <td style=\"padding: 12px; text-align: left;\"><a href=\"./fw_info_and_flash/software_firmware_inventory.ipynb\">software_firmware_inventory</a></td>\n",
    "    </tr>\n",
    "  </tbody>\n",
    "</table>\n"
   ]
  },
  {
   "cell_type": "markdown",
   "id": "7f3245b7",
   "metadata": {},
   "source": [
    "<div></div>"
   ]
  },
  {
   "cell_type": "markdown",
   "id": "774d4dc2",
   "metadata": {},
   "source": [
    "<h1 style=\"text-align:center; border-bottom: 1px solid black; padding-top:5px; padding-bottom:5px;\">Scripts related to iLO License</h1>"
   ]
  },
  {
   "cell_type": "markdown",
   "id": "6dde22ec",
   "metadata": {},
   "source": [
    "<table style=\"border-radius: 10px; background-color: #f9f9f9; border-collapse: collapse; width: 100%; max-width: 800px; margin: 0 auto; box-shadow: 4px 4px 8px rgba(0, 0, 0, 0.2), -4px -4px 8px rgba(255, 255, 255, 0.5); \">\n",
    "  <thead>\n",
    "    <tr style=\"background-color: #333; color: #fff;\">\n",
    "      <th style=\"padding: 12px; text-align: left;\">OPERATION</th>\n",
    "      <th style=\"padding: 12px; text-align: left;\">DESCRIPTION</th>\n",
    "      <th style=\"padding: 12px; text-align: left;\">METHOD</th>\n",
    "      <th style=\"padding: 12px; text-align: left;\">LOCATION</th>\n",
    "    </tr>\n",
    "  </thead>\n",
    "  <tbody>\n",
    "      <tr onmouseover=\"this.style.boxShadow='0px 10px 20px rgba(0, 0, 0, 0.4)';\" onmouseout=\"this.style.boxShadow='0px 5px 10px rgba(0, 0, 0, 0.4)';\" style=\"padding: 10px;background-color: #fff;\">\n",
    "      <td style=\"padding: 12px; text-align: left; color: black;\">Set License Key\t</td>\n",
    "      <td style=\"padding: 12px; text-align: left;\">Setting License Key</td>\n",
    "      <td style=\"padding: 12px; text-align: left;\">PATCH</td>\n",
    "      <td style=\"padding: 12px; text-align: left;\"><a href=\"./ilo_license/set_license_key.ipynb\">set_license_key</a></td>\n",
    "    </tr>\n",
    "  </tbody>\n",
    "</table>\n"
   ]
  },
  {
   "cell_type": "markdown",
   "id": "5d4473c5",
   "metadata": {},
   "source": [
    "<div></div>"
   ]
  },
  {
   "cell_type": "markdown",
   "id": "473638bc",
   "metadata": {},
   "source": [
    "<h1 style=\"text-align:center; border-bottom: 1px solid black; padding-top:5px; padding-bottom:5px;\">Scripts related to Virtual Media</h1>"
   ]
  },
  {
   "cell_type": "markdown",
   "id": "60d08bae",
   "metadata": {},
   "source": []
  },
  {
   "cell_type": "markdown",
   "id": "7b01d146",
   "metadata": {},
   "source": [
    "<div></div>"
   ]
  },
  {
   "cell_type": "markdown",
   "id": "4f1fc753",
   "metadata": {},
   "source": [
    "<h1 style=\"text-align:center; border-bottom: 1px solid black; padding-top:5px; padding-bottom:5px;\">Scripts related to SNMP</h1>"
   ]
  },
  {
   "cell_type": "markdown",
   "id": "643dd60e",
   "metadata": {},
   "source": [
    "<table style=\"border-radius: 10px; background-color: #f9f9f9; border-collapse: collapse; width: 100%; max-width: 800px; margin: 0 auto; box-shadow: 4px 4px 8px rgba(0, 0, 0, 0.2), -4px -4px 8px rgba(255, 255, 255, 0.5); \">\n",
    "  <thead>\n",
    "    <tr style=\"background-color: #333; color: #fff;\">\n",
    "      <th style=\"padding: 12px; text-align: left;\">OPERATION</th>\n",
    "      <th style=\"padding: 12px; text-align: left;\">DESCRIPTION</th>\n",
    "      <th style=\"padding: 12px; text-align: left;\">METHOD</th>\n",
    "      <th style=\"padding: 12px; text-align: left;\">LOCATION</th>\n",
    "    </tr>\n",
    "  </thead>\n",
    "  <tbody>\n",
    "    <tr onmouseover=\"this.style.boxShadow='0px 10px 20px rgba(0, 0, 0, 0.4)';\" onmouseout=\"this.style.boxShadow='0px 5px 10px rgba(0, 0, 0, 0.4)';\" style=\"padding: 10px;background-color: #fff;\">\n",
    "      <td style=\"padding: 12px; text-align: left; color: black;\">Configure SNMP</td>\n",
    "      <td style=\"padding: 12px; text-align: left;\">Configuring SNMP for HPE iLO systems</td>\n",
    "      <td style=\"padding: 12px; text-align: left;\">PATCH</td>\n",
    "      <td style=\"padding: 12px; text-align: left;\"><a href=\"./snmp/configure_snmp.ipynb\">configure_snmp</a></td>\n",
    "    </tr>\n",
    "    <tr onmouseover=\"this.style.boxShadow='0px 10px 20px rgba(0, 0, 0, 0.4)';\" onmouseout=\"this.style.boxShadow='0px 5px 10px rgba(0, 0, 0, 0.4)';\" style=\"padding: 10px;background-color: #f2f2f2;\">\n",
    "      <td style=\"padding: 12px; text-align: left; color: black;\">Configure SNMP trap source</td>\n",
    "      <td style=\"padding: 12px; text-align: left;\">Configuring SNMP trap source for HPE iLO systems</td>\n",
    "      <td style=\"padding: 12px; text-align: left;\">PATCH</td>\n",
    "      <td style=\"padding: 12px; text-align: left;\"><a href=\"./snmp/configure_snmp_trap_source.ipynb\">configure_snmp_trap_source</a></td>\n",
    "    </tr>\n",
    "      <tr onmouseover=\"this.style.boxShadow='0px 10px 20px rgba(0, 0, 0, 0.4)';\" onmouseout=\"this.style.boxShadow='0px 5px 10px rgba(0, 0, 0, 0.4)';\" style=\"padding: 10px;background-color: #fff;\">\n",
    "      <td style=\"padding: 12px; text-align: left; color: black;\">Set SNMP alert destination</td>\n",
    "      <td style=\"padding: 12px; text-align: left;\">Setting SNMP alert destination for HPE iLO systems</td>\n",
    "      <td style=\"padding: 12px; text-align: left;\">PATCH</td>\n",
    "      <td style=\"padding: 12px; text-align: left;\"><a href=\"./snmp/set_snmp_alert.ipynb\">set_snmp_alert</a></td>\n",
    "    </tr>\n",
    "  </tbody>\n",
    "</table>\n"
   ]
  },
  {
   "cell_type": "markdown",
   "id": "a184d9af",
   "metadata": {},
   "source": [
    "<div></div>"
   ]
  },
  {
   "cell_type": "markdown",
   "id": "e43c3e0c",
   "metadata": {},
   "source": [
    "<h1 style=\"text-align:center; border-bottom: 1px solid black; padding-top:5px; padding-bottom:5px;\">Scripts related to Smart Array Storage</h1>"
   ]
  },
  {
   "cell_type": "markdown",
   "id": "519adbf2",
   "metadata": {},
   "source": []
  },
  {
   "cell_type": "markdown",
   "id": "33d2d8b7",
   "metadata": {},
   "source": [
    "<div></div>"
   ]
  },
  {
   "cell_type": "markdown",
   "id": "77acbc7f",
   "metadata": {},
   "source": [
    "<h1 style=\"text-align:center;  border-bottom: 1px solid black; padding-top:5px; padding-bottom:5px;\">Scripts related to Managing Server</h1>"
   ]
  },
  {
   "cell_type": "markdown",
   "id": "d419949a",
   "metadata": {},
   "source": [
    "<table style=\"border-radius: 10px; background-color: #f9f9f9; border-collapse: collapse; width: 100%; max-width: 800px; margin: 0 auto; box-shadow: 4px 4px 8px rgba(0, 0, 0, 0.2), -4px -4px 8px rgba(255, 255, 255, 0.5); \">\n",
    "  <thead>\n",
    "    <tr style=\"background-color: #333; color: #fff;\">\n",
    "      <th style=\"padding: 12px; text-align: left;\">OPERATION</th>\n",
    "      <th style=\"padding: 12px; text-align: left;\">DESCRIPTION</th>\n",
    "      <th style=\"padding: 12px; text-align: left;\">METHOD</th>\n",
    "      <th style=\"padding: 12px; text-align: left;\">LOCATION</th>\n",
    "    </tr>\n",
    "  </thead>\n",
    "  <tbody>\n",
    "    <tr onmouseover=\"this.style.boxShadow='0px 10px 20px rgba(0, 0, 0, 0.4)';\" onmouseout=\"this.style.boxShadow='0px 5px 10px rgba(0, 0, 0, 0.4)';\" style=\"padding: 10px;background-color: #fff;\">\n",
    "      <td style=\"padding: 12px; text-align: left; color: black;\">Computer Details</td>\n",
    "      <td style=\"padding: 12px; text-align: left;\">Get all the available computer/hosts details in iLO\t</td>\n",
    "      <td style=\"padding: 12px; text-align: left;\">GET</td>\n",
    "      <td style=\"padding: 12px; text-align: left;\"><a href=\"./server_manager/computer_details.ipynb\">computer_details</a></td>\n",
    "    </tr>\n",
    "       <tr onmouseover=\"this.style.boxShadow='0px 10px 20px rgba(0, 0, 0, 0.4)';\" onmouseout=\"this.style.boxShadow='0px 5px 10px rgba(0, 0, 0, 0.4)';\" style=\"padding: 10px;background-color: #f2f2f2;\">\n",
    "      <td style=\"padding: 12px; text-align: left; color: black;\">Set Server Asset Tag</td>\n",
    "      <td style=\"padding: 12px; text-align: left;\">Setting server asset tag\t</td>\n",
    "      <td style=\"padding: 12px; text-align: left;\">PATCH</td>\n",
    "      <td style=\"padding: 12px; text-align: left;\"><a href=\"./server_manager/set_server_asset_tag.ipynb\">set_server_asset_tag</a></td>\n",
    "    </tr>\n",
    "       <tr onmouseover=\"this.style.boxShadow='0px 10px 20px rgba(0, 0, 0, 0.4)';\" onmouseout=\"this.style.boxShadow='0px 5px 10px rgba(0, 0, 0, 0.4)';\" style=\"padding: 10px;background-color: #fff;\">\n",
    "      <td style=\"padding: 12px; text-align: left; color: black;\">Set UID Light</td>\n",
    "      <td style=\"padding: 12px; text-align: left;\">Setting UID Light</td>\n",
    "      <td style=\"padding: 12px; text-align: left;\">PATCH</td>\n",
    "      <td style=\"padding: 12px; text-align: left;\"><a href=\"./server_manager/set_uid_light.ipynb\">set_uid_light</a></td>\n",
    "    </tr>\n",
    "  </tbody>\n",
    "</table>\n"
   ]
  },
  {
   "cell_type": "markdown",
   "id": "0528100d",
   "metadata": {},
   "source": [
    "<div></div>"
   ]
  },
  {
   "cell_type": "markdown",
   "id": "60ecf170",
   "metadata": {},
   "source": [
    "<h1 style=\"text-align:center; border-bottom: 1px solid black; padding-top:5px; padding-bottom:5px;\">Scripts related to Security Certificate</h1>"
   ]
  },
  {
   "cell_type": "markdown",
   "id": "d64950ed",
   "metadata": {},
   "source": []
  },
  {
   "cell_type": "markdown",
   "id": "3a961c65",
   "metadata": {},
   "source": [
    "<div></div>"
   ]
  },
  {
   "cell_type": "markdown",
   "id": "d6e78323",
   "metadata": {},
   "source": [
    "<h1 style=\"text-align:center; border-bottom: 1px solid black; padding-top:5px; padding-bottom:5px;\">Scripts related to NTP and Timezone</h1>"
   ]
  },
  {
   "cell_type": "markdown",
   "id": "1b43c314",
   "metadata": {},
   "source": []
  },
  {
   "cell_type": "markdown",
   "id": "d3afe833",
   "metadata": {},
   "source": [
    "<div></div>"
   ]
  },
  {
   "cell_type": "markdown",
   "id": "57663508",
   "metadata": {},
   "source": [
    "<h1 style=\"text-align:center; border-bottom: 1px solid black; padding-top:5px; padding-bottom:5px;\">Scripts related to Network and NIC</h1>"
   ]
  },
  {
   "cell_type": "markdown",
   "id": "806185b0",
   "metadata": {},
   "source": []
  },
  {
   "cell_type": "markdown",
   "id": "7cea8664",
   "metadata": {},
   "source": [
    "<div></div>"
   ]
  },
  {
   "cell_type": "markdown",
   "id": "456e00fb",
   "metadata": {},
   "source": [
    "<h1 style=\"text-align:center; border-bottom: 1px solid black; padding-top:5px; padding-bottom:5px;\">Scripts related to AHS, Syslog and IML</h1>"
   ]
  },
  {
   "cell_type": "markdown",
   "id": "6dd0a248",
   "metadata": {},
   "source": [
    "<table style=\"border-radius: 10px; background-color: #f9f9f9; border-collapse: collapse; width: 100%; max-width: 800px; margin: 0 auto; box-shadow: 4px 4px 8px rgba(0, 0, 0, 0.2), -4px -4px 8px rgba(255, 255, 255, 0.5); \">\n",
    "  <thead>\n",
    "    <tr style=\"background-color: #333; color: #fff;\">\n",
    "      <th style=\"padding: 12px; text-align: left;\">OPERATION</th>\n",
    "      <th style=\"padding: 12px; text-align: left;\">DESCRIPTION</th>\n",
    "      <th style=\"padding: 12px; text-align: left;\">METHOD</th>\n",
    "      <th style=\"padding: 12px; text-align: left;\">LOCATION</th>\n",
    "    </tr>\n",
    "  </thead>\n",
    "  <tbody>\n",
    "    <tr onmouseover=\"this.style.boxShadow='0px 10px 20px rgba(0, 0, 0, 0.4)';\" onmouseout=\"this.style.boxShadow='0px 5px 10px rgba(0, 0, 0, 0.4)';\" style=\"padding: 10px;background-color: #fff;\">\n",
    "      <td style=\"padding: 12px; text-align: left; color: black;\">Clear AHS data</td>\n",
    "      <td style=\"padding: 12px; text-align: left;\">Clear active health state data of iLO server</td>\n",
    "      <td style=\"padding: 12px; text-align: left;\">DELETE</td>\n",
    "      <td style=\"padding: 12px; text-align: left;\"><a href=\"./ahs_syslog_iml/clear_ahs_data.ipynb\">clear_ahs_data</a></td>\n",
    "    </tr>\n",
    "  </tbody>\n",
    "     <tbody>\n",
    "      <tr onmouseover=\"this.style.boxShadow='0px 10px 20px rgba(0, 0, 0, 0.4)';\" onmouseout=\"this.style.boxShadow='0px 5px 10px rgba(0, 0, 0, 0.4)';\" style=\"padding: 10px;background-color: #f2f2f2;\">\n",
    "      <td style=\"padding: 12px; text-align: left; color: black;\">Set remote syslog server\t</td>\n",
    "      <td style=\"padding: 12px; text-align: left;\">Setting Remote syslog Server for an HPE iLO management processor.</td>\n",
    "      <td style=\"padding: 12px; text-align: left;\">PATCH</td>\n",
    "      <td style=\"padding: 12px; text-align: left;\"><a href=\"./ahs_syslog_iml/set_syslogserver.ipynb\">set_syslogserver</a></td>\n",
    "    </tr>\n",
    "  </tbody>\n",
    "     <tbody>\n",
    "      <tr onmouseover=\"this.style.boxShadow='0px 10px 20px rgba(0, 0, 0, 0.4)';\" onmouseout=\"this.style.boxShadow='0px 5px 10px rgba(0, 0, 0, 0.4)';\" style=\"padding: 10px;background-color: #fff;\">\n",
    "      <td style=\"padding: 12px; text-align: left; color: black;\">Clear iLO IEL IML log\t</td>\n",
    "      <td style=\"padding: 12px; text-align: left;\">Clearing out the iLO event log and management log at server side</td>\n",
    "      <td style=\"padding: 12px; text-align: left;\">DELETE</td>\n",
    "      <td style=\"padding: 12px; text-align: left;\"><a href=\"./ahs_syslog_iml/clear_ilo_iel_iml_log.ipynb\">clear_ilo_iel_iml_log</a></td>\n",
    "    </tr>\n",
    "  </tbody>\n",
    "</table>\n"
   ]
  },
  {
   "cell_type": "markdown",
   "id": "5b445d67",
   "metadata": {},
   "source": [
    "<div></div>"
   ]
  },
  {
   "cell_type": "markdown",
   "id": "ecd072de",
   "metadata": {},
   "source": [
    "<h1 style=\"text-align:center; border-bottom: 1px solid black; padding-top:5px; padding-bottom:5px;\">Miscellaneous Scripts</h1>"
   ]
  },
  {
   "cell_type": "markdown",
   "id": "3f24980f",
   "metadata": {},
   "source": [
    "<table style=\"border-radius: 10px; background-color: #f9f9f9; border-collapse: collapse; width: 100%; max-width: 800px; margin: 0 auto; box-shadow: 4px 4px 8px rgba(0, 0, 0, 0.2), -4px -4px 8px rgba(255, 255, 255, 0.5); \">\n",
    "  <thead>\n",
    "    <tr style=\"background-color: #333; color: #fff;\">\n",
    "      <th style=\"padding: 12px; text-align: left;\">OPERATION</th>\n",
    "      <th style=\"padding: 12px; text-align: left;\">DESCRIPTION</th>\n",
    "      <th style=\"padding: 12px; text-align: left;\">METHOD</th>\n",
    "      <th style=\"padding: 12px; text-align: left;\">LOCATION</th>\n",
    "    </tr>\n",
    "  </thead>\n",
    "  <tbody>\n",
    "    <tr onmouseover=\"this.style.boxShadow='0px 10px 20px rgba(0, 0, 0, 0.4)';\" onmouseout=\"this.style.boxShadow='0px 5px 10px rgba(0, 0, 0, 0.4)';\" style=\"padding: 10px;background-color: #fff;\">\n",
    "      <td style=\"padding: 12px; text-align: left; color: black;\">Example Data Resopnses</td>\n",
    "      <td style=\"padding: 12px; text-align: left;\">Example Script for expanding data responses</td>\n",
    "      <td style=\"padding: 12px; text-align: left;\">GET</td>\n",
    "      <td style=\"padding: 12px; text-align: left;\"><a href=\"./miscellaneous/expand_data.ipynb\">expand_data</a></td>\n",
    "    </tr>\n",
    "  </tbody>\n",
    "</table>"
   ]
  },
  {
   "cell_type": "markdown",
   "id": "da54fe5d",
   "metadata": {},
   "source": [
    "<div></div>"
   ]
  }
 ],
 "metadata": {
  "kernelspec": {
   "display_name": "Python 3 (ipykernel)",
   "language": "python",
   "name": "python3"
  },
  "language_info": {
   "codemirror_mode": {
    "name": "ipython",
    "version": 3
   },
   "file_extension": ".py",
   "mimetype": "text/x-python",
   "name": "python",
   "nbconvert_exporter": "python",
   "pygments_lexer": "ipython3",
   "version": "3.9.7"
  }
 },
 "nbformat": 4,
 "nbformat_minor": 5
}
